{
 "cells": [
  {
   "cell_type": "code",
   "execution_count": null,
   "metadata": {},
   "outputs": [],
   "source": [
    "def sd(array):\n",
    "    import numpy as np\n",
    "    array=np.array(array)\n",
    "    result=np.std(array)\n",
    "    return result\n",
    "\n",
    "def dnorm(x,mean=0,sd =1,log=False):\n",
    "    from scipy.stats import norm\n",
    "    if log==False:\n",
    "        result=norm.pdf(x,loc=mean,scale=sd)\n",
    "    elif log==True:\n",
    "        result=norm.logpdf(x,loc=mean,scale=sd)\n",
    "    return result\n",
    "\n",
    "def dexp(x,loc=0,scale=1,log=False):\n",
    "    from scipy.stats import expon\n",
    "    if log==False:\n",
    "        result = expon.pdf(x,loc=loc,scale=scale)\n",
    "    elif log==True:\n",
    "        result = expon.logpdf(x,loc=loc,scale=scale)\n",
    "    return result"
   ]
  },
  {
   "cell_type": "code",
   "execution_count": null,
   "metadata": {},
   "outputs": [],
   "source": [
    "import numpy as np\n",
    "import pandas as pd\n",
    "\n",
    "data = pd.read_csv(\"WaffleDivorce.csv\",sep=';')\n",
    "\n",
    "data_A = (data.MedianAgeMarriage - np.mean(data.MedianAgeMarriage) ) / np.std(data.MedianAgeMarriage)\n",
    "data_D = (data.Divorce - data.Divorce.mean() ) / data.Divorce.std()\n",
    "data_M = (data.Marriage - data.Marriage.mean() ) / data.Marriage.std()"
   ]
  },
  {
   "cell_type": "code",
   "execution_count": null,
   "metadata": {},
   "outputs": [],
   "source": [
    "sd(data.MedianAgeMarriage)"
   ]
  },
  {
   "cell_type": "code",
   "execution_count": null,
   "metadata": {},
   "outputs": [],
   "source": [
    "sd(data.Divorce)"
   ]
  },
  {
   "cell_type": "code",
   "execution_count": null,
   "metadata": {},
   "outputs": [],
   "source": [
    "import pymc3 as pm\n",
    "import arviz as az\n",
    "import matplotlib.pyplot as plt\n",
    "\n",
    "with pm.Model() as m5_1:\n",
    "    a = pm.Normal(\"a\", 0.0, 0.2)\n",
    "    bA = pm.Normal(\"bA\", 0.0, 0.5)\n",
    "    mu = a + bA * data_A\n",
    "    sigma = pm.Exponential(\"sigma\", 1.0)\n",
    "    obs = pm.Normal(\"Divorce\", mu=mu, sigma=sigma, observed=data_D)\n",
    "    prior_checks = pm.sample_prior_predictive(samples=50, random_seed=10)"
   ]
  },
  {
   "cell_type": "code",
   "execution_count": null,
   "metadata": {},
   "outputs": [],
   "source": [
    "_, ax = plt.subplots()\n",
    "\n",
    "x = np.linspace(-2, 2, 100)\n",
    "\n",
    "for a, b in zip(prior_checks[\"a\"], prior_checks[\"bA\"]):\n",
    "    y = a + b * x\n",
    "    ax.plot(x, y, c=\"k\", alpha=0.25)\n",
    "\n",
    "ax.set_xlabel(\"Median Age of Marriage 'std'\")\n",
    "ax.set_ylabel(\"Divorce Rate 'std'\")\n",
    "ax.set_title(\"m5.1\")"
   ]
  },
  {
   "cell_type": "code",
   "execution_count": null,
   "metadata": {},
   "outputs": [],
   "source": [
    "with pm.Model() as m5_2:\n",
    "    a = pm.Normal(\"a\", 0.0, 0.2)\n",
    "    bM = pm.Normal(\"bM\", 0.0, 0.5)\n",
    "    mu = a + bM * data_M\n",
    "    sigma = pm.Exponential(\"sigma\", 1.0)\n",
    "    obs = pm.Normal(\"Divorce\", mu=mu, sigma=sigma, observed=data_D)\n",
    "    prior_checks = pm.sample_prior_predictive(samples=50, random_seed=10)"
   ]
  },
  {
   "cell_type": "code",
   "execution_count": null,
   "metadata": {},
   "outputs": [],
   "source": [
    "_, ax = plt.subplots()\n",
    "\n",
    "x = np.linspace(-2, 2, 50)\n",
    "\n",
    "for a, b in zip(prior_checks[\"a\"], prior_checks[\"bM\"]):\n",
    "    y = a + b * x\n",
    "    ax.plot(x, y, c=\"k\", alpha=0.25)\n",
    "\n",
    "ax.set_xlabel(\"Marriage Rate 'std'\")\n",
    "ax.set_ylabel(\"Divorce Rate 'std'\")\n",
    "ax.set_title(\"m5.2\")"
   ]
  },
  {
   "cell_type": "code",
   "execution_count": null,
   "metadata": {},
   "outputs": [],
   "source": [
    "with pm.Model() as m5_3:\n",
    "    a = pm.Normal(\"a\", 0.0, 0.2)\n",
    "    bM = pm.Normal(\"bM\", 0.0, 0.5)\n",
    "    bA = pm.Normal(\"bA\", 0.0, 0.5)\n",
    "    mu = a + bM * data_M + bA * data_A\n",
    "    sigma = pm.Exponential(\"sigma\", 1.0)\n",
    "    obs = pm.Normal(\"Divorce\", mu=mu, sigma=sigma, observed=data_D)\n",
    "    prior_checks = pm.sample_prior_predictive(samples=50, random_seed=10)\n",
    "    trace = pm.sample(1000, tune=2000, random_seed=10)"
   ]
  },
  {
   "cell_type": "code",
   "execution_count": null,
   "metadata": {},
   "outputs": [],
   "source": [
    "func_dict = {\n",
    "     \"mean\":  np.mean,\n",
    "     \"sd\":    np.std,\n",
    "     \"5.5%\":  lambda x: np.percentile(x, 5.5),\n",
    "     \"94.5%\": lambda x: np.percentile(x, 94.5),\n",
    " }"
   ]
  },
  {
   "cell_type": "code",
   "execution_count": null,
   "metadata": {},
   "outputs": [],
   "source": [
    "pm.summary(trace, var_names=[\"a\", \"bM\", \"bA\", \"sigma\"],stat_funcs=func_dict,round_to=2,extend=False)"
   ]
  },
  {
   "cell_type": "code",
   "execution_count": null,
   "metadata": {},
   "outputs": [],
   "source": [
    "data = pd.read_csv(\"milk.csv\",sep=';').dropna()\n",
    "data.rename(columns=lambda x: x.replace(\".\",\"_\"),inplace=True)\n",
    "data.head()"
   ]
  },
  {
   "cell_type": "code",
   "execution_count": null,
   "metadata": {},
   "outputs": [],
   "source": [
    "data_K = (data.kcal_per_g - data.kcal_per_g.mean() ) / data.kcal_per_g.std()\n",
    "data_N = (data.neocortex_perc - data.neocortex_perc.mean() ) / data.neocortex_perc.std()\n",
    "data_M = (np.log(data.mass) - np.mean(np.log(data.mass)) ) / np.std(np.log(data.mass))"
   ]
  },
  {
   "cell_type": "code",
   "execution_count": null,
   "metadata": {},
   "outputs": [],
   "source": [
    "with pm.Model() as m5_5_draft:\n",
    "    a = pm.Normal(\"a\", 0.0, 1.0)\n",
    "    bN = pm.Normal(\"bN\", 0.0, 1.0)\n",
    "    mu = a + bN * data_N\n",
    "    sigma = pm.Exponential(\"sigma\", 1.0)\n",
    "    obs = pm.Normal(\"kcal_per_g\", mu=mu, sigma=sigma, observed=data_K)\n",
    "    prior_checks = pm.sample_prior_predictive(samples=50, random_seed=10)"
   ]
  },
  {
   "cell_type": "code",
   "execution_count": null,
   "metadata": {},
   "outputs": [],
   "source": [
    "_, ax = plt.subplots()\n",
    "\n",
    "x = np.linspace(-2, 2, 50)\n",
    "\n",
    "for a, b in zip(prior_checks[\"a\"], prior_checks[\"bN\"]):\n",
    "    y = a + b * x\n",
    "    ax.plot(x, y, c=\"k\", alpha=0.25)\n",
    "\n",
    "ax.set_xlabel(\"Neocortex Mass 'std'\")\n",
    "ax.set_ylabel(\"Kilocalories of Energy per Gram 'std'\")\n",
    "ax.set_title(\"m5.2\")"
   ]
  },
  {
   "cell_type": "code",
   "execution_count": null,
   "metadata": {},
   "outputs": [],
   "source": []
  }
 ],
 "metadata": {
  "kernelspec": {
   "display_name": "Python 3",
   "language": "python",
   "name": "python3"
  },
  "language_info": {
   "codemirror_mode": {
    "name": "ipython",
    "version": 3
   },
   "file_extension": ".py",
   "mimetype": "text/x-python",
   "name": "python",
   "nbconvert_exporter": "python",
   "pygments_lexer": "ipython3",
   "version": "3.7.7"
  }
 },
 "nbformat": 4,
 "nbformat_minor": 4
}
